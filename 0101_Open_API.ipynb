{
 "cells": [
  {
   "cell_type": "markdown",
   "metadata": {},
   "source": [
    "- 환율정보"
   ]
  },
  {
   "cell_type": "code",
   "execution_count": 1,
   "metadata": {},
   "outputs": [],
   "source": [
    "mykey = 'xRspfXAZGtxemNXfeo8HyI8M6Cvpu5wg'\n",
    "mydate = '20200302'\n",
    "mydata = 'AP01'"
   ]
  },
  {
   "cell_type": "code",
   "execution_count": 4,
   "metadata": {},
   "outputs": [
    {
     "data": {
      "text/plain": [
       "'https://www.koreaexim.go.kr/site/program/financial/exchangeJSON?authkey=xRspfXAZGtxemNXfeo8HyI8M6Cvpu5wg&searchdate=20200302&data=AP01'"
      ]
     },
     "execution_count": 4,
     "metadata": {},
     "output_type": "execute_result"
    }
   ],
   "source": [
    "url = 'https://www.koreaexim.go.kr/site/program/financial/exchangeJSON?authkey='+mykey+'&searchdate='+mydate+'&data='+mydata\n",
    "url"
   ]
  },
  {
   "cell_type": "code",
   "execution_count": 5,
   "metadata": {},
   "outputs": [],
   "source": [
    "import urllib\n",
    "import json"
   ]
  },
  {
   "cell_type": "code",
   "execution_count": 9,
   "metadata": {},
   "outputs": [
    {
     "name": "stdout",
     "output_type": "stream",
     "text": [
      "200\n"
     ]
    }
   ],
   "source": [
    "res = urllib.request.Request(url)\n",
    "response = urllib.request.urlopen(res)\n",
    "rescode = response.getcode()\n",
    "print(rescode)"
   ]
  },
  {
   "cell_type": "code",
   "execution_count": 10,
   "metadata": {
    "collapsed": true
   },
   "outputs": [
    {
     "data": {
      "text/plain": [
       "[{'result': 1,\n",
       "  'cur_unit': 'AED',\n",
       "  'ttb': '327.57',\n",
       "  'tts': '334.18',\n",
       "  'deal_bas_r': '330.88',\n",
       "  'bkpr': '330',\n",
       "  'yy_efee_r': '0',\n",
       "  'ten_dd_efee_r': '0',\n",
       "  'kftc_bkpr': '330',\n",
       "  'kftc_deal_bas_r': '330.88',\n",
       "  'cur_nm': '아랍에미리트 디르함'},\n",
       " {'result': 1,\n",
       "  'cur_unit': 'AUD',\n",
       "  'ttb': '781.92',\n",
       "  'tts': '797.71',\n",
       "  'deal_bas_r': '789.82',\n",
       "  'bkpr': '789',\n",
       "  'yy_efee_r': '0',\n",
       "  'ten_dd_efee_r': '0',\n",
       "  'kftc_bkpr': '789',\n",
       "  'kftc_deal_bas_r': '789.82',\n",
       "  'cur_nm': '호주 달러'},\n",
       " {'result': 1,\n",
       "  'cur_unit': 'BHD',\n",
       "  'ttb': '3,190.94',\n",
       "  'tts': '3,255.41',\n",
       "  'deal_bas_r': '3,223.18',\n",
       "  'bkpr': '3,223',\n",
       "  'yy_efee_r': '0',\n",
       "  'ten_dd_efee_r': '0',\n",
       "  'kftc_bkpr': '3,223',\n",
       "  'kftc_deal_bas_r': '3,223.18',\n",
       "  'cur_nm': '바레인 디나르'},\n",
       " {'result': 1,\n",
       "  'cur_unit': 'BND',\n",
       "  'ttb': '863.73',\n",
       "  'tts': '881.18',\n",
       "  'deal_bas_r': '872.46',\n",
       "  'bkpr': '872',\n",
       "  'yy_efee_r': '0',\n",
       "  'ten_dd_efee_r': '0',\n",
       "  'kftc_bkpr': '872',\n",
       "  'kftc_deal_bas_r': '872.46',\n",
       "  'cur_nm': '브루나이 달러'},\n",
       " {'result': 1,\n",
       "  'cur_unit': 'CAD',\n",
       "  'ttb': '896.93',\n",
       "  'tts': '915.04',\n",
       "  'deal_bas_r': '905.99',\n",
       "  'bkpr': '905',\n",
       "  'yy_efee_r': '0',\n",
       "  'ten_dd_efee_r': '0',\n",
       "  'kftc_bkpr': '905',\n",
       "  'kftc_deal_bas_r': '905.99',\n",
       "  'cur_nm': '캐나다 달러'},\n",
       " {'result': 1,\n",
       "  'cur_unit': 'CHF',\n",
       "  'ttb': '1,249.56',\n",
       "  'tts': '1,274.81',\n",
       "  'deal_bas_r': '1,262.19',\n",
       "  'bkpr': '1,262',\n",
       "  'yy_efee_r': '0',\n",
       "  'ten_dd_efee_r': '0',\n",
       "  'kftc_bkpr': '1,262',\n",
       "  'kftc_deal_bas_r': '1,262.19',\n",
       "  'cur_nm': '스위스 프랑'},\n",
       " {'result': 1,\n",
       "  'cur_unit': 'CNH',\n",
       "  'ttb': '171.52',\n",
       "  'tts': '174.99',\n",
       "  'deal_bas_r': '173.26',\n",
       "  'bkpr': '173',\n",
       "  'yy_efee_r': '0',\n",
       "  'ten_dd_efee_r': '0',\n",
       "  'kftc_bkpr': '173',\n",
       "  'kftc_deal_bas_r': '173.26',\n",
       "  'cur_nm': '위안화'},\n",
       " {'result': 1,\n",
       "  'cur_unit': 'DKK',\n",
       "  'ttb': '178.22',\n",
       "  'tts': '181.83',\n",
       "  'deal_bas_r': '180.03',\n",
       "  'bkpr': '180',\n",
       "  'yy_efee_r': '0',\n",
       "  'ten_dd_efee_r': '0',\n",
       "  'kftc_bkpr': '180',\n",
       "  'kftc_deal_bas_r': '180.03',\n",
       "  'cur_nm': '덴마아크 크로네'},\n",
       " {'result': 1,\n",
       "  'cur_unit': 'EUR',\n",
       "  'ttb': '1,331.69',\n",
       "  'tts': '1,358.6',\n",
       "  'deal_bas_r': '1,345.15',\n",
       "  'bkpr': '1,345',\n",
       "  'yy_efee_r': '0',\n",
       "  'ten_dd_efee_r': '0',\n",
       "  'kftc_bkpr': '1,345',\n",
       "  'kftc_deal_bas_r': '1,345.15',\n",
       "  'cur_nm': '유로'},\n",
       " {'result': 1,\n",
       "  'cur_unit': 'GBP',\n",
       "  'ttb': '1,540.27',\n",
       "  'tts': '1,571.38',\n",
       "  'deal_bas_r': '1,555.83',\n",
       "  'bkpr': '1,555',\n",
       "  'yy_efee_r': '0',\n",
       "  'ten_dd_efee_r': '0',\n",
       "  'kftc_bkpr': '1,555',\n",
       "  'kftc_deal_bas_r': '1,555.83',\n",
       "  'cur_nm': '영국 파운드'},\n",
       " {'result': 1,\n",
       "  'cur_unit': 'HKD',\n",
       "  'ttb': '154.37',\n",
       "  'tts': '157.48',\n",
       "  'deal_bas_r': '155.93',\n",
       "  'bkpr': '155',\n",
       "  'yy_efee_r': '0',\n",
       "  'ten_dd_efee_r': '0',\n",
       "  'kftc_bkpr': '155',\n",
       "  'kftc_deal_bas_r': '155.93',\n",
       "  'cur_nm': '홍콩 달러'},\n",
       " {'result': 1,\n",
       "  'cur_unit': 'IDR(100)',\n",
       "  'ttb': '8.38',\n",
       "  'tts': '8.55',\n",
       "  'deal_bas_r': '8.47',\n",
       "  'bkpr': '8',\n",
       "  'yy_efee_r': '0',\n",
       "  'ten_dd_efee_r': '0',\n",
       "  'kftc_bkpr': '8',\n",
       "  'kftc_deal_bas_r': '8.47',\n",
       "  'cur_nm': '인도네시아 루피아'},\n",
       " {'result': 1,\n",
       "  'cur_unit': 'JPY(100)',\n",
       "  'ttb': '1,118.94',\n",
       "  'tts': '1,141.55',\n",
       "  'deal_bas_r': '1,130.25',\n",
       "  'bkpr': '1,130',\n",
       "  'yy_efee_r': '0',\n",
       "  'ten_dd_efee_r': '0',\n",
       "  'kftc_bkpr': '1,130',\n",
       "  'kftc_deal_bas_r': '1,130.25',\n",
       "  'cur_nm': '일본 옌'},\n",
       " {'result': 1,\n",
       "  'cur_unit': 'KRW',\n",
       "  'ttb': '0',\n",
       "  'tts': '0',\n",
       "  'deal_bas_r': '1',\n",
       "  'bkpr': '1',\n",
       "  'yy_efee_r': '0',\n",
       "  'ten_dd_efee_r': '0',\n",
       "  'kftc_bkpr': '1',\n",
       "  'kftc_deal_bas_r': '1',\n",
       "  'cur_nm': '한국 원'},\n",
       " {'result': 1,\n",
       "  'cur_unit': 'KWD',\n",
       "  'ttb': '3,931.85',\n",
       "  'tts': '4,011.28',\n",
       "  'deal_bas_r': '3,971.57',\n",
       "  'bkpr': '3,971',\n",
       "  'yy_efee_r': '0',\n",
       "  'ten_dd_efee_r': '0',\n",
       "  'kftc_bkpr': '3,971',\n",
       "  'kftc_deal_bas_r': '3,971.57',\n",
       "  'cur_nm': '쿠웨이트 디나르'},\n",
       " {'result': 1,\n",
       "  'cur_unit': 'MYR',\n",
       "  'ttb': '285.54',\n",
       "  'tts': '291.31',\n",
       "  'deal_bas_r': '288.43',\n",
       "  'bkpr': '288',\n",
       "  'yy_efee_r': '0',\n",
       "  'ten_dd_efee_r': '0',\n",
       "  'kftc_bkpr': '288',\n",
       "  'kftc_deal_bas_r': '288.43',\n",
       "  'cur_nm': '말레이지아 링기트'},\n",
       " {'result': 1,\n",
       "  'cur_unit': 'NOK',\n",
       "  'ttb': '127.63',\n",
       "  'tts': '130.2',\n",
       "  'deal_bas_r': '128.92',\n",
       "  'bkpr': '128',\n",
       "  'yy_efee_r': '0',\n",
       "  'ten_dd_efee_r': '0',\n",
       "  'kftc_bkpr': '128',\n",
       "  'kftc_deal_bas_r': '128.92',\n",
       "  'cur_nm': '노르웨이 크로네'},\n",
       " {'result': 1,\n",
       "  'cur_unit': 'NZD',\n",
       "  'ttb': '749.14',\n",
       "  'tts': '764.27',\n",
       "  'deal_bas_r': '756.71',\n",
       "  'bkpr': '756',\n",
       "  'yy_efee_r': '0',\n",
       "  'ten_dd_efee_r': '0',\n",
       "  'kftc_bkpr': '756',\n",
       "  'kftc_deal_bas_r': '756.71',\n",
       "  'cur_nm': '뉴질랜드 달러'},\n",
       " {'result': 1,\n",
       "  'cur_unit': 'SAR',\n",
       "  'ttb': '320.69',\n",
       "  'tts': '327.16',\n",
       "  'deal_bas_r': '323.93',\n",
       "  'bkpr': '323',\n",
       "  'yy_efee_r': '0',\n",
       "  'ten_dd_efee_r': '0',\n",
       "  'kftc_bkpr': '323',\n",
       "  'kftc_deal_bas_r': '323.93',\n",
       "  'cur_nm': '사우디 리얄'},\n",
       " {'result': 1,\n",
       "  'cur_unit': 'SEK',\n",
       "  'ttb': '125.19',\n",
       "  'tts': '127.72',\n",
       "  'deal_bas_r': '126.46',\n",
       "  'bkpr': '126',\n",
       "  'yy_efee_r': '0',\n",
       "  'ten_dd_efee_r': '0',\n",
       "  'kftc_bkpr': '126',\n",
       "  'kftc_deal_bas_r': '126.46',\n",
       "  'cur_nm': '스웨덴 크로나'},\n",
       " {'result': 1,\n",
       "  'cur_unit': 'SGD',\n",
       "  'ttb': '863.73',\n",
       "  'tts': '881.18',\n",
       "  'deal_bas_r': '872.46',\n",
       "  'bkpr': '872',\n",
       "  'yy_efee_r': '0',\n",
       "  'ten_dd_efee_r': '0',\n",
       "  'kftc_bkpr': '872',\n",
       "  'kftc_deal_bas_r': '872.46',\n",
       "  'cur_nm': '싱가포르 달러'},\n",
       " {'result': 1,\n",
       "  'cur_unit': 'THB',\n",
       "  'ttb': '38.11',\n",
       "  'tts': '38.88',\n",
       "  'deal_bas_r': '38.5',\n",
       "  'bkpr': '38',\n",
       "  'yy_efee_r': '0',\n",
       "  'ten_dd_efee_r': '0',\n",
       "  'kftc_bkpr': '38',\n",
       "  'kftc_deal_bas_r': '38.5',\n",
       "  'cur_nm': '태국 바트'},\n",
       " {'result': 1,\n",
       "  'cur_unit': 'USD',\n",
       "  'ttb': '1,203.14',\n",
       "  'tts': '1,227.45',\n",
       "  'deal_bas_r': '1,215.3',\n",
       "  'bkpr': '1,215',\n",
       "  'yy_efee_r': '0',\n",
       "  'ten_dd_efee_r': '0',\n",
       "  'kftc_bkpr': '1,215',\n",
       "  'kftc_deal_bas_r': '1,215.3',\n",
       "  'cur_nm': '미국 달러'}]"
      ]
     },
     "execution_count": 10,
     "metadata": {},
     "output_type": "execute_result"
    }
   ],
   "source": [
    "results = json.load(response)\n",
    "results"
   ]
  },
  {
   "cell_type": "code",
   "execution_count": 17,
   "metadata": {
    "collapsed": true
   },
   "outputs": [
    {
     "data": {
      "text/plain": [
       "{'AED': '327.57',\n",
       " 'AUD': '781.92',\n",
       " 'BHD': '3,190.94',\n",
       " 'BND': '863.73',\n",
       " 'CAD': '896.93',\n",
       " 'CHF': '1,249.56',\n",
       " 'CNH': '171.52',\n",
       " 'DKK': '178.22',\n",
       " 'EUR': '1,331.69',\n",
       " 'GBP': '1,540.27',\n",
       " 'HKD': '154.37',\n",
       " 'IDR(100)': '8.38',\n",
       " 'JPY(100)': '1,118.94',\n",
       " 'KRW': '0',\n",
       " 'KWD': '3,931.85',\n",
       " 'MYR': '285.54',\n",
       " 'NOK': '127.63',\n",
       " 'NZD': '749.14',\n",
       " 'SAR': '320.69',\n",
       " 'SEK': '125.19',\n",
       " 'SGD': '863.73',\n",
       " 'THB': '38.11',\n",
       " 'USD': '1,203.14'}"
      ]
     },
     "execution_count": 17,
     "metadata": {},
     "output_type": "execute_result"
    }
   ],
   "source": [
    "{i['cur_unit']:i['ttb'] for i in results}"
   ]
  },
  {
   "cell_type": "markdown",
   "metadata": {},
   "source": [
    "- 네이버 파파고 번역기 API"
   ]
  },
  {
   "cell_type": "code",
   "execution_count": 18,
   "metadata": {},
   "outputs": [],
   "source": [
    "my_id = ''\n",
    "my_key = ''"
   ]
  },
  {
   "cell_type": "code",
   "execution_count": 21,
   "metadata": {},
   "outputs": [
    {
     "data": {
      "text/plain": [
       "'%EB%A7%8C%EB%82%98%EC%84%9C%20%EB%B0%98%EA%B0%91%EC%8A%B5%EB%8B%88%EB%8B%A4.'"
      ]
     },
     "execution_count": 21,
     "metadata": {},
     "output_type": "execute_result"
    }
   ],
   "source": [
    "s = 'ko'\n",
    "t = 'en'\n",
    "txt = '만나서 반갑습니다.'\n",
    "txt = urllib.parse.quote(txt)\n",
    "txt"
   ]
  },
  {
   "cell_type": "code",
   "execution_count": 23,
   "metadata": {},
   "outputs": [
    {
     "data": {
      "text/plain": [
       "'source=ko&target=en&text=%EB%A7%8C%EB%82%98%EC%84%9C%20%EB%B0%98%EA%B0%91%EC%8A%B5%EB%8B%88%EB%8B%A4.'"
      ]
     },
     "execution_count": 23,
     "metadata": {},
     "output_type": "execute_result"
    }
   ],
   "source": [
    "data = 'source='+s+'&target='+t+'&text='+txt\n",
    "data"
   ]
  },
  {
   "cell_type": "code",
   "execution_count": 22,
   "metadata": {},
   "outputs": [],
   "source": [
    "url = 'https://openapi.naver.com/v1/papago/n2mt'"
   ]
  },
  {
   "cell_type": "code",
   "execution_count": 26,
   "metadata": {},
   "outputs": [
    {
     "data": {
      "text/plain": [
       "200"
      ]
     },
     "execution_count": 26,
     "metadata": {},
     "output_type": "execute_result"
    }
   ],
   "source": [
    "res = urllib.request.Request(url)\n",
    "res.add_header(\"X-Naver-Client-Id\", my_id)\n",
    "res.add_header(\"X-Naver-Client-Secret\", my_key)\n",
    "response = urllib.request.urlopen(res, data=data.encode('utf-8'))\n",
    "rescode = response.getcode()\n",
    "rescode"
   ]
  },
  {
   "cell_type": "code",
   "execution_count": 27,
   "metadata": {},
   "outputs": [
    {
     "data": {
      "text/plain": [
       "{'message': {'@type': 'response',\n",
       "  '@service': 'naverservice.nmt.proxy',\n",
       "  '@version': '1.0.0',\n",
       "  'result': {'srcLangType': 'ko',\n",
       "   'tarLangType': 'en',\n",
       "   'translatedText': \"It's a pleasure to meet you.\",\n",
       "   'engineType': 'N2MT',\n",
       "   'pivot': None}}}"
      ]
     },
     "execution_count": 27,
     "metadata": {},
     "output_type": "execute_result"
    }
   ],
   "source": [
    "results = json.load(response)\n",
    "results"
   ]
  },
  {
   "cell_type": "code",
   "execution_count": 30,
   "metadata": {},
   "outputs": [
    {
     "data": {
      "text/plain": [
       "\"It's a pleasure to meet you.\""
      ]
     },
     "execution_count": 30,
     "metadata": {},
     "output_type": "execute_result"
    }
   ],
   "source": [
    "results['message']['result']['translatedText']"
   ]
  },
  {
   "cell_type": "code",
   "execution_count": 35,
   "metadata": {},
   "outputs": [
    {
     "data": {
      "text/plain": [
       "\"It's a pleasure to meet you.\""
      ]
     },
     "execution_count": 35,
     "metadata": {},
     "output_type": "execute_result"
    }
   ],
   "source": [
    "results.get('message').get('result').get('translatedText')"
   ]
  }
 ],
 "metadata": {
  "kernelspec": {
   "display_name": "Python 3",
   "language": "python",
   "name": "python3"
  },
  "language_info": {
   "codemirror_mode": {
    "name": "ipython",
    "version": 3
   },
   "file_extension": ".py",
   "mimetype": "text/x-python",
   "name": "python",
   "nbconvert_exporter": "python",
   "pygments_lexer": "ipython3",
   "version": "3.8.5"
  }
 },
 "nbformat": 4,
 "nbformat_minor": 4
}
