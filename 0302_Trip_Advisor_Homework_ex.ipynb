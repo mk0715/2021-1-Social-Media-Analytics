{
 "cells": [
  {
   "cell_type": "code",
   "execution_count": 1,
   "metadata": {},
   "outputs": [],
   "source": [
    "import pandas as pd\n",
    "from webdriver_manager.chrome import ChromeDriverManager\n",
    "from selenium import webdriver\n",
    "from selenium.webdriver.common.keys import Keys\n",
    "import time"
   ]
  },
  {
   "cell_type": "code",
   "execution_count": 2,
   "metadata": {},
   "outputs": [],
   "source": [
    "restaurant = pd.read_csv('식당URL.csv')"
   ]
  },
  {
   "cell_type": "code",
   "execution_count": 3,
   "metadata": {},
   "outputs": [
    {
     "data": {
      "text/html": [
       "<div>\n",
       "<style scoped>\n",
       "    .dataframe tbody tr th:only-of-type {\n",
       "        vertical-align: middle;\n",
       "    }\n",
       "\n",
       "    .dataframe tbody tr th {\n",
       "        vertical-align: top;\n",
       "    }\n",
       "\n",
       "    .dataframe thead th {\n",
       "        text-align: right;\n",
       "    }\n",
       "</style>\n",
       "<table border=\"1\" class=\"dataframe\">\n",
       "  <thead>\n",
       "    <tr style=\"text-align: right;\">\n",
       "      <th></th>\n",
       "      <th>도시</th>\n",
       "      <th>식당이름</th>\n",
       "      <th>url</th>\n",
       "    </tr>\n",
       "  </thead>\n",
       "  <tbody>\n",
       "    <tr>\n",
       "      <th>0</th>\n",
       "      <td>서울</td>\n",
       "      <td>서울24시감자탕 서현점</td>\n",
       "      <td>https://www.tripadvisor.co.kr/Restaurant_Revie...</td>\n",
       "    </tr>\n",
       "    <tr>\n",
       "      <th>1</th>\n",
       "      <td>서울</td>\n",
       "      <td>피에르 가니에르 서울</td>\n",
       "      <td>https://www.tripadvisor.co.kr/Restaurant_Revie...</td>\n",
       "    </tr>\n",
       "    <tr>\n",
       "      <th>2</th>\n",
       "      <td>서울</td>\n",
       "      <td>더 팀버 하우스, 파크 하얏트 서울</td>\n",
       "      <td>https://www.tripadvisor.co.kr/Restaurant_Revie...</td>\n",
       "    </tr>\n",
       "    <tr>\n",
       "      <th>3</th>\n",
       "      <td>서울</td>\n",
       "      <td>서울리스타 커피&amp;펍</td>\n",
       "      <td>https://www.tripadvisor.co.kr/Restaurant_Revie...</td>\n",
       "    </tr>\n",
       "    <tr>\n",
       "      <th>4</th>\n",
       "      <td>서울</td>\n",
       "      <td>맥도날드 서울대역점</td>\n",
       "      <td>https://www.tripadvisor.co.kr/Restaurant_Revie...</td>\n",
       "    </tr>\n",
       "  </tbody>\n",
       "</table>\n",
       "</div>"
      ],
      "text/plain": [
       "   도시                 식당이름                                                url\n",
       "0  서울         서울24시감자탕 서현점  https://www.tripadvisor.co.kr/Restaurant_Revie...\n",
       "1  서울          피에르 가니에르 서울  https://www.tripadvisor.co.kr/Restaurant_Revie...\n",
       "2  서울  더 팀버 하우스, 파크 하얏트 서울  https://www.tripadvisor.co.kr/Restaurant_Revie...\n",
       "3  서울           서울리스타 커피&펍  https://www.tripadvisor.co.kr/Restaurant_Revie...\n",
       "4  서울           맥도날드 서울대역점  https://www.tripadvisor.co.kr/Restaurant_Revie..."
      ]
     },
     "execution_count": 3,
     "metadata": {},
     "output_type": "execute_result"
    }
   ],
   "source": [
    "restaurant.head()"
   ]
  },
  {
   "cell_type": "code",
   "execution_count": null,
   "metadata": {},
   "outputs": [
    {
     "name": "stderr",
     "output_type": "stream",
     "text": [
      "\n",
      "\n",
      "====== WebDriver manager ======\n",
      "Current google-chrome version is 90.0.4430\n",
      "Get LATEST driver version for 90.0.4430\n",
      "Driver [C:\\Users\\MOON\\.wdm\\drivers\\chromedriver\\win32\\90.0.4430.24\\chromedriver.exe] found in cache\n"
     ]
    }
   ],
   "source": [
    "my_review = []\n",
    "browser=webdriver.Chrome(ChromeDriverManager().install())\n",
    "for c, r_name, u in zip(restaurant.도시,restaurant.식당이름, restaurant.url):\n",
    "    browser.get(u)\n",
    "    time.sleep(0.8)\n",
    "    try:\n",
    "        tp = int(browser.find_element_by_css_selector('#REVIEWS > div.prw_rup.prw_common_location_content_header_resp > div > div.title_text > span').text.replace('(','').replace(')',''))\n",
    "    except:\n",
    "        time.sleep(0.8)\n",
    "        tp = int(browser.find_element_by_css_selector('#REVIEWS > div.prw_rup.prw_common_location_content_header_resp > div > div.title_text > span').text.replace('(','').replace(')',''))\n",
    "    for pp in list(range(0, tp, 10)):\n",
    "        new_u = u.split('Reviews')[0]+'Reviews-or'+str(pp)+u.split('Reviews')[1]\n",
    "        browser.get(new_u)\n",
    "        try:\n",
    "            browser.find_elements_by_css_selector('span.taLnk.ulBlueLinks')\n",
    "        except:\n",
    "            time.sleep(5)\n",
    "        for btn in browser.find_elements_by_css_selector('span.taLnk.ulBlueLinks'):\n",
    "            try:\n",
    "                btn.click()\n",
    "            except:\n",
    "                continue\n",
    "        time.sleep(1)\n",
    "        for r in browser.find_elements_by_css_selector('#taplc_location_reviews_list_resp_rr_resp_0 > div > div'):\n",
    "            try:\n",
    "                score = int(r.find_element_by_css_selector('div > div.ui_column.is-9 > span').get_attribute('class').split('_')[-1])/10\n",
    "            except:\n",
    "                continue\n",
    "            dt = r.find_element_by_css_selector('div > div.ui_column.is-9 > span.ratingDate').text.split('에 작성.')[0]\n",
    "            r_id = r.find_element_by_css_selector('div > div.ui_column.is-2.memberInfoColumn > div > div').text.split('\\n')[0]\n",
    "            tt = r.find_element_by_css_selector('div > div.ui_column.is-9 > div.prw_rup.prw_reviews_text_summary_hsx > div > p').text.replace(',','')\n",
    "            info = {'지역':c, \n",
    "                    '식당이름':r_name, \n",
    "                    '리뷰일':dt, \n",
    "                    '리뷰어ID':r_id, \n",
    "                    '평점':score, \n",
    "                    '리뷰텍스트':tt}\n",
    "            my_review.append(info)\n",
    "    #browser.quit()"
   ]
  }
 ],
 "metadata": {
  "kernelspec": {
   "display_name": "Python 3",
   "language": "python",
   "name": "python3"
  },
  "language_info": {
   "codemirror_mode": {
    "name": "ipython",
    "version": 3
   },
   "file_extension": ".py",
   "mimetype": "text/x-python",
   "name": "python",
   "nbconvert_exporter": "python",
   "pygments_lexer": "ipython3",
   "version": "3.8.5"
  }
 },
 "nbformat": 4,
 "nbformat_minor": 4
}
