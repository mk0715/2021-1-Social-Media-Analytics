{
 "cells": [
  {
   "cell_type": "code",
   "execution_count": 1,
   "metadata": {},
   "outputs": [],
   "source": [
    "import konlpy"
   ]
  },
  {
   "cell_type": "code",
   "execution_count": 18,
   "metadata": {},
   "outputs": [],
   "source": [
    "from konlpy.tag import Okt"
   ]
  },
  {
   "cell_type": "code",
   "execution_count": 36,
   "metadata": {},
   "outputs": [],
   "source": [
    "tagger = Okt()"
   ]
  },
  {
   "cell_type": "code",
   "execution_count": 20,
   "metadata": {},
   "outputs": [
    {
     "data": {
      "text/plain": [
       "[('아버지', 'Noun'),\n",
       " ('가방', 'Noun'),\n",
       " ('에', 'Josa'),\n",
       " ('들어가신다', 'Verb'),\n",
       " ('.', 'Punctuation')]"
      ]
     },
     "execution_count": 20,
     "metadata": {},
     "output_type": "execute_result"
    }
   ],
   "source": [
    "pos = tagger.pos('아버지가방에들어가신다.')\n",
    "pos"
   ]
  },
  {
   "cell_type": "code",
   "execution_count": 21,
   "metadata": {},
   "outputs": [
    {
     "data": {
      "text/plain": [
       "['아버지', '가방', '에', '들어가신다', '.']"
      ]
     },
     "execution_count": 21,
     "metadata": {},
     "output_type": "execute_result"
    }
   ],
   "source": [
    "tagger.morphs('아버지가방에들어가신다.')"
   ]
  },
  {
   "cell_type": "code",
   "execution_count": 22,
   "metadata": {},
   "outputs": [
    {
     "data": {
      "text/plain": [
       "['아버지', '가방']"
      ]
     },
     "execution_count": 22,
     "metadata": {},
     "output_type": "execute_result"
    }
   ],
   "source": [
    "tagger.nouns('아버지가방에들어가신다.')"
   ]
  },
  {
   "cell_type": "code",
   "execution_count": 38,
   "metadata": {},
   "outputs": [],
   "source": [
    "from konlpy.tag import Komoran"
   ]
  },
  {
   "cell_type": "code",
   "execution_count": 56,
   "metadata": {},
   "outputs": [],
   "source": [
    "tagger = Komoran()"
   ]
  },
  {
   "cell_type": "code",
   "execution_count": 57,
   "metadata": {},
   "outputs": [],
   "source": [
    "sentence = '아침에 해를 보며 버스를 탔다.'"
   ]
  },
  {
   "cell_type": "code",
   "execution_count": 104,
   "metadata": {},
   "outputs": [],
   "source": [
    "def get_nouns(text):\n",
    "    nouns = tagger.nouns(text)\n",
    "    nouns = [word for word in nouns if len(word)>1]\n",
    "    nouns = [word for word in nouns if not re.match(r'\\d+', word)]\n",
    "    return nouns"
   ]
  },
  {
   "cell_type": "code",
   "execution_count": 59,
   "metadata": {},
   "outputs": [
    {
     "data": {
      "text/plain": [
       "['아침', '버스']"
      ]
     },
     "execution_count": 59,
     "metadata": {},
     "output_type": "execute_result"
    }
   ],
   "source": [
    "get_nouns(sentence)"
   ]
  },
  {
   "cell_type": "code",
   "execution_count": 121,
   "metadata": {},
   "outputs": [
    {
     "data": {
      "text/html": [
       "<div>\n",
       "<style scoped>\n",
       "    .dataframe tbody tr th:only-of-type {\n",
       "        vertical-align: middle;\n",
       "    }\n",
       "\n",
       "    .dataframe tbody tr th {\n",
       "        vertical-align: top;\n",
       "    }\n",
       "\n",
       "    .dataframe thead th {\n",
       "        text-align: right;\n",
       "    }\n",
       "</style>\n",
       "<table border=\"1\" class=\"dataframe\">\n",
       "  <thead>\n",
       "    <tr style=\"text-align: right;\">\n",
       "      <th></th>\n",
       "      <th>지역</th>\n",
       "      <th>식당이름</th>\n",
       "      <th>리뷰일</th>\n",
       "      <th>리뷰어ID</th>\n",
       "      <th>평점</th>\n",
       "      <th>리뷰텍스트</th>\n",
       "    </tr>\n",
       "  </thead>\n",
       "  <tbody>\n",
       "    <tr>\n",
       "      <th>0</th>\n",
       "      <td>서울</td>\n",
       "      <td>서울24시감자탕 서현점</td>\n",
       "      <td>2020년 9월 4일</td>\n",
       "      <td>Go807705</td>\n",
       "      <td>5.0</td>\n",
       "      <td>여러 감자탕 가게를 다녀봤는데 손에 꼽힐 정도로 괜찮은 식당임. 뼈에 붙은 살도 신...</td>\n",
       "    </tr>\n",
       "    <tr>\n",
       "      <th>1</th>\n",
       "      <td>서울</td>\n",
       "      <td>서울24시감자탕 서현점</td>\n",
       "      <td>2020년 3월 26일</td>\n",
       "      <td>OERWJ2</td>\n",
       "      <td>4.0</td>\n",
       "      <td>고기가 질기지 않고 가격대도 괜찮아서 점심에 부담없이 찾아가기 좋다. 성남살면서 자...</td>\n",
       "    </tr>\n",
       "    <tr>\n",
       "      <th>2</th>\n",
       "      <td>서울</td>\n",
       "      <td>서울24시감자탕 서현점</td>\n",
       "      <td>2020년 2월 25일</td>\n",
       "      <td>jgp982</td>\n",
       "      <td>5.0</td>\n",
       "      <td>어른들은 주로 뼈해장국 아이들은 안 매운 삼계탕. 언제나 든든하고 후회없는 선택입니...</td>\n",
       "    </tr>\n",
       "    <tr>\n",
       "      <th>3</th>\n",
       "      <td>서울</td>\n",
       "      <td>서울24시감자탕 서현점</td>\n",
       "      <td>2020년 2월 15일</td>\n",
       "      <td>Getaway807239</td>\n",
       "      <td>4.0</td>\n",
       "      <td>분당내 다른체인점임낳은곳으로 감자탕 맛집이에요 가격도 비싸지 않고요 고기도 실합니다...</td>\n",
       "    </tr>\n",
       "    <tr>\n",
       "      <th>4</th>\n",
       "      <td>서울</td>\n",
       "      <td>서울24시감자탕 서현점</td>\n",
       "      <td>2019년 11월 22일</td>\n",
       "      <td>kingkong_hi</td>\n",
       "      <td>5.0</td>\n",
       "      <td>맛있어서 자주 갑니다. 매장에서는 감자탕 먹고 포장은 뼈해장국~ 뼈해장국 밥 빼고 ...</td>\n",
       "    </tr>\n",
       "  </tbody>\n",
       "</table>\n",
       "</div>"
      ],
      "text/plain": [
       "   지역          식당이름            리뷰일          리뷰어ID   평점  \\\n",
       "0  서울  서울24시감자탕 서현점    2020년 9월 4일       Go807705  5.0   \n",
       "1  서울  서울24시감자탕 서현점   2020년 3월 26일         OERWJ2  4.0   \n",
       "2  서울  서울24시감자탕 서현점   2020년 2월 25일         jgp982  5.0   \n",
       "3  서울  서울24시감자탕 서현점   2020년 2월 15일  Getaway807239  4.0   \n",
       "4  서울  서울24시감자탕 서현점  2019년 11월 22일    kingkong_hi  5.0   \n",
       "\n",
       "                                               리뷰텍스트  \n",
       "0  여러 감자탕 가게를 다녀봤는데 손에 꼽힐 정도로 괜찮은 식당임. 뼈에 붙은 살도 신...  \n",
       "1  고기가 질기지 않고 가격대도 괜찮아서 점심에 부담없이 찾아가기 좋다. 성남살면서 자...  \n",
       "2  어른들은 주로 뼈해장국 아이들은 안 매운 삼계탕. 언제나 든든하고 후회없는 선택입니...  \n",
       "3  분당내 다른체인점임낳은곳으로 감자탕 맛집이에요 가격도 비싸지 않고요 고기도 실합니다...  \n",
       "4  맛있어서 자주 갑니다. 매장에서는 감자탕 먹고 포장은 뼈해장국~ 뼈해장국 밥 빼고 ...  "
      ]
     },
     "execution_count": 121,
     "metadata": {},
     "output_type": "execute_result"
    }
   ],
   "source": [
    "import pandas as pd\n",
    "df = pd.read_csv('review_full.csv')\n",
    "df.head()"
   ]
  },
  {
   "cell_type": "code",
   "execution_count": 122,
   "metadata": {},
   "outputs": [],
   "source": [
    "from sklearn.feature_extraction.text import CountVectorizer"
   ]
  },
  {
   "cell_type": "code",
   "execution_count": 123,
   "metadata": {},
   "outputs": [],
   "source": [
    "cv = CountVectorizer(max_features=1000, tokenizer=get_nouns)"
   ]
  },
  {
   "cell_type": "code",
   "execution_count": 124,
   "metadata": {},
   "outputs": [],
   "source": [
    "from sklearn.feature_extraction.text import TfidfVectorizer"
   ]
  },
  {
   "cell_type": "code",
   "execution_count": 125,
   "metadata": {},
   "outputs": [],
   "source": [
    "tfidf = TfidfVectorizer(max_features=1000, tokenizer=get_nouns)"
   ]
  },
  {
   "cell_type": "code",
   "execution_count": 127,
   "metadata": {},
   "outputs": [],
   "source": [
    "tdm_cv = cv.fit_transform(df.리뷰텍스트)\n",
    "tdm_tfidf = tfidf.fit_transform(df.리뷰텍스트)"
   ]
  },
  {
   "cell_type": "code",
   "execution_count": 131,
   "metadata": {},
   "outputs": [
    {
     "data": {
      "text/plain": [
       "['회식', '회의', '회전', '효율', '후기', '후식', '후회', '휴가', '휴식', '흥미']"
      ]
     },
     "execution_count": 131,
     "metadata": {},
     "output_type": "execute_result"
    }
   ],
   "source": [
    "cv.get_feature_names()[-10:]"
   ]
  },
  {
   "cell_type": "code",
   "execution_count": 132,
   "metadata": {},
   "outputs": [],
   "source": [
    "import joblib"
   ]
  },
  {
   "cell_type": "code",
   "execution_count": 133,
   "metadata": {},
   "outputs": [],
   "source": [
    "with open('tdm.pkl', 'wb') as f:\n",
    "    joblib.dump({'cv':cv, 'tfidf':tfidf, 'tdm_cv':tdm_cv, 'tdm_tfidf':tdm_tfidf}, f)"
   ]
  }
 ],
 "metadata": {
  "kernelspec": {
   "display_name": "Python 3",
   "language": "python",
   "name": "python3"
  },
  "language_info": {
   "codemirror_mode": {
    "name": "ipython",
    "version": 3
   },
   "file_extension": ".py",
   "mimetype": "text/x-python",
   "name": "python",
   "nbconvert_exporter": "python",
   "pygments_lexer": "ipython3",
   "version": "3.8.5"
  }
 },
 "nbformat": 4,
 "nbformat_minor": 4
}
